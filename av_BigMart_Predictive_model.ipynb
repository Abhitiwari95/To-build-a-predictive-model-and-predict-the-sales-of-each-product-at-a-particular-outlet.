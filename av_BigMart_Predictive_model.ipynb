{
  "nbformat": 4,
  "nbformat_minor": 0,
  "metadata": {
    "kernelspec": {
      "display_name": "Python 3",
      "language": "python",
      "name": "python3"
    },
    "language_info": {
      "codemirror_mode": {
        "name": "ipython",
        "version": 3
      },
      "file_extension": ".py",
      "mimetype": "text/x-python",
      "name": "python",
      "nbconvert_exporter": "python",
      "pygments_lexer": "ipython3",
      "version": "3.7.4"
    },
    "colab": {
      "name": "av_BigMart_Predictive_model.ipynb",
      "provenance": [],
      "toc_visible": true
    }
  },
  "cells": [
    {
      "cell_type": "markdown",
      "metadata": {
        "id": "beV2iKFeRg99"
      },
      "source": [
        "## Problem Statement"
      ]
    },
    {
      "cell_type": "markdown",
      "metadata": {
        "id": "_9ffudlGRg-A"
      },
      "source": [
        " The data scientists at BigMart have collected 2013 sales data for 1559 products across 10 stores in different cities. Also, certain attributes of each product and store have been defined. So now your aim is to build a predictive model and predict the sales of each product at a particular outlet.\n",
        "\n",
        "Using this model, BigMart will try to understand the properties of products and outlets which play a key role in increasing sales.\n",
        "\n",
        "Please note that the data may have missing values as some stores might not report all the data due to technical glitches. Hence, it will be required to treat them accordingly. \n"
      ]
    },
    {
      "cell_type": "markdown",
      "metadata": {
        "id": "Jx3S9_2PRg-C"
      },
      "source": [
        "### Step 1: Importing the Relevant Libraries"
      ]
    },
    {
      "cell_type": "code",
      "metadata": {
        "id": "5NcfqlRgRg-F"
      },
      "source": [
        "import matplotlib.pyplot as plt\n",
        "import pandas as pd\n",
        "import numpy as np\n",
        "import seaborn as sns\n",
        "\n",
        "from sklearn.preprocessing import LabelEncoder\n",
        "from sklearn.model_selection import train_test_split\n",
        "from sklearn import metrics\n",
        "from sklearn.linear_model import LinearRegression\n",
        "\n",
        "import warnings\n",
        "warnings.filterwarnings('always')\n",
        "warnings.filterwarnings('ignore')"
      ],
      "execution_count": null,
      "outputs": []
    },
    {
      "cell_type": "markdown",
      "metadata": {
        "id": "vtFr4AtCRg-G"
      },
      "source": [
        "### Step 2: Data Inspection"
      ]
    },
    {
      "cell_type": "code",
      "metadata": {
        "id": "6DYW1nOiRg-H"
      },
      "source": [
        "train = pd.read_csv(\"train_v9rqX0R.csv\")\n",
        "test = pd.read_csv(\"test_AbJTz2l.csv\")"
      ],
      "execution_count": null,
      "outputs": []
    },
    {
      "cell_type": "code",
      "metadata": {
        "colab": {
          "base_uri": "https://localhost:8080/"
        },
        "id": "qTWt5HecRg-I",
        "outputId": "a635430a-59de-42c3-c2af-c3398e47114e"
      },
      "source": [
        "train.shape,test.shape"
      ],
      "execution_count": null,
      "outputs": [
        {
          "output_type": "execute_result",
          "data": {
            "text/plain": [
              "((8523, 12), (5681, 11))"
            ]
          },
          "metadata": {
            "tags": []
          },
          "execution_count": 46
        }
      ]
    },
    {
      "cell_type": "markdown",
      "metadata": {
        "id": "wjiebdBRRg-J"
      },
      "source": [
        "* __We have 8523 rows and 12 columns in Train set whereas Test set has 5681 rows and 11 columns.__"
      ]
    },
    {
      "cell_type": "code",
      "metadata": {
        "colab": {
          "base_uri": "https://localhost:8080/"
        },
        "id": "0U9IbnwdRg-K",
        "outputId": "f2e921ac-489a-4bb9-8702-d9c9f63258dc"
      },
      "source": [
        "#ratio of null values\n",
        "train.isnull().sum()/train.shape[0] *100"
      ],
      "execution_count": null,
      "outputs": [
        {
          "output_type": "execute_result",
          "data": {
            "text/plain": [
              "Item_Identifier               0.000000\n",
              "Item_Weight                  17.165317\n",
              "Item_Fat_Content              0.000000\n",
              "Item_Visibility               0.000000\n",
              "Item_Type                     0.000000\n",
              "Item_MRP                      0.000000\n",
              "Outlet_Identifier             0.000000\n",
              "Outlet_Establishment_Year     0.000000\n",
              "Outlet_Size                  28.276428\n",
              "Outlet_Location_Type          0.000000\n",
              "Outlet_Type                   0.000000\n",
              "Item_Outlet_Sales             0.000000\n",
              "dtype: float64"
            ]
          },
          "metadata": {
            "tags": []
          },
          "execution_count": 47
        }
      ]
    },
    {
      "cell_type": "code",
      "metadata": {
        "colab": {
          "base_uri": "https://localhost:8080/"
        },
        "id": "N4dbDk03Rg-L",
        "outputId": "eb4842b0-b8b7-42c0-cb66-c75b7f30bda1"
      },
      "source": [
        "#ratio of null values\n",
        "test.isnull().sum()/test.shape[0] *100"
      ],
      "execution_count": null,
      "outputs": [
        {
          "output_type": "execute_result",
          "data": {
            "text/plain": [
              "Item_Identifier               0.000000\n",
              "Item_Weight                  17.180074\n",
              "Item_Fat_Content              0.000000\n",
              "Item_Visibility               0.000000\n",
              "Item_Type                     0.000000\n",
              "Item_MRP                      0.000000\n",
              "Outlet_Identifier             0.000000\n",
              "Outlet_Establishment_Year     0.000000\n",
              "Outlet_Size                  28.269671\n",
              "Outlet_Location_Type          0.000000\n",
              "Outlet_Type                   0.000000\n",
              "dtype: float64"
            ]
          },
          "metadata": {
            "tags": []
          },
          "execution_count": 48
        }
      ]
    },
    {
      "cell_type": "markdown",
      "metadata": {
        "id": "TJm6zZeiRg-L"
      },
      "source": [
        "* __We have 17% and 28% of missing values in Item weight and Outlet_Size columns respectively.__"
      ]
    },
    {
      "cell_type": "code",
      "metadata": {
        "colab": {
          "base_uri": "https://localhost:8080/"
        },
        "id": "zFRBM13iRg-M",
        "outputId": "72bd8a42-30cb-4e3c-f0c0-daccd18aee3b"
      },
      "source": [
        "#categorical features\n",
        "categorical = train.select_dtypes(include =[np.object])\n",
        "print(\"Categorical Features in Train Set:\",categorical.shape[1])\n",
        "\n",
        "#numerical features\n",
        "numerical= train.select_dtypes(include =[np.float64,np.int64])\n",
        "print(\"Numerical Features in Train Set:\",numerical.shape[1])"
      ],
      "execution_count": null,
      "outputs": [
        {
          "output_type": "stream",
          "text": [
            "Categorical Features in Train Set: 7\n",
            "Numerical Features in Train Set: 5\n"
          ],
          "name": "stdout"
        }
      ]
    },
    {
      "cell_type": "code",
      "metadata": {
        "colab": {
          "base_uri": "https://localhost:8080/"
        },
        "id": "FpHTYERARg-M",
        "outputId": "2b2ff117-537a-45a7-d35d-48a7ca4456a8"
      },
      "source": [
        "#categorical features\n",
        "categorical = test.select_dtypes(include =[np.object])\n",
        "print(\"Categorical Features in Test Set:\",categorical.shape[1])\n",
        "\n",
        "#numerical features\n",
        "numerical= test.select_dtypes(include =[np.float64,np.int64])\n",
        "print(\"Numerical Features in Test Set:\",numerical.shape[1])"
      ],
      "execution_count": null,
      "outputs": [
        {
          "output_type": "stream",
          "text": [
            "Categorical Features in Test Set: 7\n",
            "Numerical Features in Test Set: 4\n"
          ],
          "name": "stdout"
        }
      ]
    },
    {
      "cell_type": "markdown",
      "metadata": {
        "id": "l85l_J7eRg-N"
      },
      "source": [
        "### Step 3: Data Cleaning"
      ]
    },
    {
      "cell_type": "markdown",
      "metadata": {
        "id": "wizLVV_FRg-N"
      },
      "source": [
        "Why missing values treatment is required?\n",
        "Missing data in the training data set can reduce the power / fit of a model or can lead to a biased model because we have not analysed the behavior and relationship with other variables correctly. It can lead to wrong prediction."
      ]
    },
    {
      "cell_type": "code",
      "metadata": {
        "colab": {
          "base_uri": "https://localhost:8080/"
        },
        "id": "I-L8Jbp5Rg-O",
        "outputId": "8ea56aae-b4e2-410a-abd2-64464c6e01f5"
      },
      "source": [
        "train.isnull().sum()"
      ],
      "execution_count": null,
      "outputs": [
        {
          "output_type": "execute_result",
          "data": {
            "text/plain": [
              "Item_Identifier                 0\n",
              "Item_Weight                  1463\n",
              "Item_Fat_Content                0\n",
              "Item_Visibility                 0\n",
              "Item_Type                       0\n",
              "Item_MRP                        0\n",
              "Outlet_Identifier               0\n",
              "Outlet_Establishment_Year       0\n",
              "Outlet_Size                  2410\n",
              "Outlet_Location_Type            0\n",
              "Outlet_Type                     0\n",
              "Item_Outlet_Sales               0\n",
              "dtype: int64"
            ]
          },
          "metadata": {
            "tags": []
          },
          "execution_count": 51
        }
      ]
    },
    {
      "cell_type": "code",
      "metadata": {
        "colab": {
          "base_uri": "https://localhost:8080/"
        },
        "id": "uIfGUZ6XRg-O",
        "outputId": "46b252a0-7975-4a56-f6ca-abaa3ed66a77"
      },
      "source": [
        "test.isnull().sum()"
      ],
      "execution_count": null,
      "outputs": [
        {
          "output_type": "execute_result",
          "data": {
            "text/plain": [
              "Item_Identifier                 0\n",
              "Item_Weight                   976\n",
              "Item_Fat_Content                0\n",
              "Item_Visibility                 0\n",
              "Item_Type                       0\n",
              "Item_MRP                        0\n",
              "Outlet_Identifier               0\n",
              "Outlet_Establishment_Year       0\n",
              "Outlet_Size                  1606\n",
              "Outlet_Location_Type            0\n",
              "Outlet_Type                     0\n",
              "dtype: int64"
            ]
          },
          "metadata": {
            "tags": []
          },
          "execution_count": 52
        }
      ]
    },
    {
      "cell_type": "markdown",
      "metadata": {
        "id": "-jWThnN0Rg-P"
      },
      "source": [
        "* Item_Weight and Outlet_Size have some missing values in the data"
      ]
    },
    {
      "cell_type": "markdown",
      "metadata": {
        "id": "jRDvV4gURg-P"
      },
      "source": [
        "__3.1 Item Weight__"
      ]
    },
    {
      "cell_type": "code",
      "metadata": {
        "colab": {
          "base_uri": "https://localhost:8080/",
          "height": 352
        },
        "id": "O2vQ93e2Rg-P",
        "outputId": "6ea80220-697f-4bb5-dc88-0e80639c9a98"
      },
      "source": [
        "plt.figure(figsize=(8,5))\n",
        "sns.boxplot('Item_Weight',data=train)"
      ],
      "execution_count": null,
      "outputs": [
        {
          "output_type": "execute_result",
          "data": {
            "text/plain": [
              "<matplotlib.axes._subplots.AxesSubplot at 0x7fecf0ddaf90>"
            ]
          },
          "metadata": {
            "tags": []
          },
          "execution_count": 53
        },
        {
          "output_type": "display_data",
          "data": {
            "image/png": "[encoded data removed]",
            "text/plain": [
              "<Figure size 576x360 with 1 Axes>"
            ]
          },
          "metadata": {
            "tags": [],
            "needs_background": "light"
          }
        }
      ]
    },
    {
      "cell_type": "code",
      "metadata": {
        "colab": {
          "base_uri": "https://localhost:8080/",
          "height": 352
        },
        "id": "Lava5u6WRg-Q",
        "outputId": "f7dc3c3c-4739-49df-8426-efc248a6a7d9"
      },
      "source": [
        "plt.figure(figsize=(8,5))\n",
        "sns.boxplot('Item_Weight',data=test)"
      ],
      "execution_count": null,
      "outputs": [
        {
          "output_type": "execute_result",
          "data": {
            "text/plain": [
              "<matplotlib.axes._subplots.AxesSubplot at 0x7fecfc406e10>"
            ]
          },
          "metadata": {
            "tags": []
          },
          "execution_count": 54
        },
        {
          "output_type": "display_data",
          "data": {
            "image/png": "[encoded data removed]",
            "text/plain": [
              "<Figure size 576x360 with 1 Axes>"
            ]
          },
          "metadata": {
            "tags": [],
            "needs_background": "light"
          }
        }
      ]
    },
    {
      "cell_type": "markdown",
      "metadata": {
        "id": "JXgUQwqDRg-R"
      },
      "source": [
        "__The Box Plots above clearly show no \"Outliers\" and hence we can impute the missing values with \"Mean\"__"
      ]
    },
    {
      "cell_type": "code",
      "metadata": {
        "id": "QnFzHOUTRg-S"
      },
      "source": [
        "# Imputing with Mean\n",
        "train['Item_Weight']= train['Item_Weight'].fillna(train['Item_Weight'].mean())\n",
        "test['Item_Weight']= test['Item_Weight'].fillna(test['Item_Weight'].mean())"
      ],
      "execution_count": null,
      "outputs": []
    },
    {
      "cell_type": "code",
      "metadata": {
        "colab": {
          "base_uri": "https://localhost:8080/"
        },
        "id": "vJILB6PlRg-T",
        "outputId": "29135350-261f-47b9-9de1-36506b4ecabb"
      },
      "source": [
        "train['Item_Weight'].isnull().sum(),test['Item_Weight'].isnull().sum()"
      ],
      "execution_count": null,
      "outputs": [
        {
          "output_type": "execute_result",
          "data": {
            "text/plain": [
              "(0, 0)"
            ]
          },
          "metadata": {
            "tags": []
          },
          "execution_count": 56
        }
      ]
    },
    {
      "cell_type": "markdown",
      "metadata": {
        "id": "ku-YXqxXRg-T"
      },
      "source": [
        "We have succesfully imputed the missing values from the column Item_Weight"
      ]
    },
    {
      "cell_type": "markdown",
      "metadata": {
        "id": "hQOldRmJRg-U"
      },
      "source": [
        "__3.2 : Outlet Size__"
      ]
    },
    {
      "cell_type": "code",
      "metadata": {
        "colab": {
          "base_uri": "https://localhost:8080/"
        },
        "id": "t1DWNRbqRg-U",
        "outputId": "3ac9b9c2-3569-4fab-aee0-d3ae3b30047b"
      },
      "source": [
        "train['Outlet_Size'].isnull().sum(),test['Outlet_Size'].isnull().sum()"
      ],
      "execution_count": null,
      "outputs": [
        {
          "output_type": "execute_result",
          "data": {
            "text/plain": [
              "(2410, 1606)"
            ]
          },
          "metadata": {
            "tags": []
          },
          "execution_count": 57
        }
      ]
    },
    {
      "cell_type": "code",
      "metadata": {
        "colab": {
          "base_uri": "https://localhost:8080/"
        },
        "id": "Gq2D0YuERg-V",
        "outputId": "a65d03a3-be43-4e92-985d-f8edfef3e140"
      },
      "source": [
        "print(train['Outlet_Size'].value_counts())\n",
        "print('******************************************')\n",
        "print(test['Outlet_Size'].value_counts())"
      ],
      "execution_count": null,
      "outputs": [
        {
          "output_type": "stream",
          "text": [
            "Medium    2793\n",
            "Small     2388\n",
            "High       932\n",
            "Name: Outlet_Size, dtype: int64\n",
            "******************************************\n",
            "Medium    1862\n",
            "Small     1592\n",
            "High       621\n",
            "Name: Outlet_Size, dtype: int64\n"
          ],
          "name": "stdout"
        }
      ]
    },
    {
      "cell_type": "markdown",
      "metadata": {
        "id": "BGvD_rKIRg-V"
      },
      "source": [
        "__Since the outlet_size is a categorical column, we can impute the missing values by \"Mode\"(Most Repeated Value) from the column__"
      ]
    },
    {
      "cell_type": "code",
      "metadata": {
        "id": "yBJjGPh5Rg-V"
      },
      "source": [
        "#Imputing with Mode\n",
        "train['Outlet_Size']= train['Outlet_Size'].fillna(train['Outlet_Size'].mode()[0])\n",
        "test['Outlet_Size']= test['Outlet_Size'].fillna(test['Outlet_Size'].mode()[0])"
      ],
      "execution_count": null,
      "outputs": []
    },
    {
      "cell_type": "code",
      "metadata": {
        "colab": {
          "base_uri": "https://localhost:8080/"
        },
        "id": "sSY6HPOPRg-W",
        "outputId": "58815725-b6e2-4803-be70-5ed786265208"
      },
      "source": [
        "train['Outlet_Size'].isnull().sum(),test['Outlet_Size'].isnull().sum()"
      ],
      "execution_count": null,
      "outputs": [
        {
          "output_type": "execute_result",
          "data": {
            "text/plain": [
              "(0, 0)"
            ]
          },
          "metadata": {
            "tags": []
          },
          "execution_count": 60
        }
      ]
    },
    {
      "cell_type": "markdown",
      "metadata": {
        "id": "q-rQ-eSDRg-X"
      },
      "source": [
        "__We have succesfully imputed the missing values from the column Outlet_Size.__"
      ]
    },
    {
      "cell_type": "markdown",
      "metadata": {
        "id": "HSNPnND2Rg-X"
      },
      "source": [
        "### Step 4: Exploratory Data Analysis"
      ]
    },
    {
      "cell_type": "code",
      "metadata": {
        "colab": {
          "base_uri": "https://localhost:8080/"
        },
        "id": "qrn8Nlp2Rg-X",
        "outputId": "968dcff0-cfe0-434a-9c09-41bb01dff876"
      },
      "source": [
        "train.columns"
      ],
      "execution_count": null,
      "outputs": [
        {
          "output_type": "execute_result",
          "data": {
            "text/plain": [
              "Index(['Item_Identifier', 'Item_Weight', 'Item_Fat_Content', 'Item_Visibility',\n",
              "       'Item_Type', 'Item_MRP', 'Outlet_Identifier',\n",
              "       'Outlet_Establishment_Year', 'Outlet_Size', 'Outlet_Location_Type',\n",
              "       'Outlet_Type', 'Item_Outlet_Sales'],\n",
              "      dtype='object')"
            ]
          },
          "metadata": {
            "tags": []
          },
          "execution_count": 61
        }
      ]
    },
    {
      "cell_type": "code",
      "metadata": {
        "colab": {
          "base_uri": "https://localhost:8080/",
          "height": 309
        },
        "id": "OWprnYXyRg-Y",
        "outputId": "fc96a65f-fd66-4e6c-8eba-8cf724371bb9"
      },
      "source": [
        "train.head()"
      ],
      "execution_count": null,
      "outputs": [
        {
          "output_type": "execute_result",
          "data": {
            "text/html": [
              "<div>\n",
              "<style scoped>\n",
              "    .dataframe tbody tr th:only-of-type {\n",
              "        vertical-align: middle;\n",
              "    }\n",
              "\n",
              "    .dataframe tbody tr th {\n",
              "        vertical-align: top;\n",
              "    }\n",
              "\n",
              "    .dataframe thead th {\n",
              "        text-align: right;\n",
              "    }\n",
              "</style>\n",
              "<table border=\"1\" class=\"dataframe\">\n",
              "  <thead>\n",
              "    <tr style=\"text-align: right;\">\n",
              "      <th></th>\n",
              "      <th>Item_Identifier</th>\n",
              "      <th>Item_Weight</th>\n",
              "      <th>Item_Fat_Content</th>\n",
              "      <th>Item_Visibility</th>\n",
              "      <th>Item_Type</th>\n",
              "      <th>Item_MRP</th>\n",
              "      <th>Outlet_Identifier</th>\n",
              "      <th>Outlet_Establishment_Year</th>\n",
              "      <th>Outlet_Size</th>\n",
              "      <th>Outlet_Location_Type</th>\n",
              "      <th>Outlet_Type</th>\n",
              "      <th>Item_Outlet_Sales</th>\n",
              "    </tr>\n",
              "  </thead>\n",
              "  <tbody>\n",
              "    <tr>\n",
              "      <th>0</th>\n",
              "      <td>FDA15</td>\n",
              "      <td>9.30</td>\n",
              "      <td>Low Fat</td>\n",
              "      <td>0.016047</td>\n",
              "      <td>Dairy</td>\n",
              "      <td>249.8092</td>\n",
              "      <td>OUT049</td>\n",
              "      <td>1999</td>\n",
              "      <td>Medium</td>\n",
              "      <td>Tier 1</td>\n",
              "      <td>Supermarket Type1</td>\n",
              "      <td>3735.1380</td>\n",
              "    </tr>\n",
              "    <tr>\n",
              "      <th>1</th>\n",
              "      <td>DRC01</td>\n",
              "      <td>5.92</td>\n",
              "      <td>Regular</td>\n",
              "      <td>0.019278</td>\n",
              "      <td>Soft Drinks</td>\n",
              "      <td>48.2692</td>\n",
              "      <td>OUT018</td>\n",
              "      <td>2009</td>\n",
              "      <td>Medium</td>\n",
              "      <td>Tier 3</td>\n",
              "      <td>Supermarket Type2</td>\n",
              "      <td>443.4228</td>\n",
              "    </tr>\n",
              "    <tr>\n",
              "      <th>2</th>\n",
              "      <td>FDN15</td>\n",
              "      <td>17.50</td>\n",
              "      <td>Low Fat</td>\n",
              "      <td>0.016760</td>\n",
              "      <td>Meat</td>\n",
              "      <td>141.6180</td>\n",
              "      <td>OUT049</td>\n",
              "      <td>1999</td>\n",
              "      <td>Medium</td>\n",
              "      <td>Tier 1</td>\n",
              "      <td>Supermarket Type1</td>\n",
              "      <td>2097.2700</td>\n",
              "    </tr>\n",
              "    <tr>\n",
              "      <th>3</th>\n",
              "      <td>FDX07</td>\n",
              "      <td>19.20</td>\n",
              "      <td>Regular</td>\n",
              "      <td>0.000000</td>\n",
              "      <td>Fruits and Vegetables</td>\n",
              "      <td>182.0950</td>\n",
              "      <td>OUT010</td>\n",
              "      <td>1998</td>\n",
              "      <td>Medium</td>\n",
              "      <td>Tier 3</td>\n",
              "      <td>Grocery Store</td>\n",
              "      <td>732.3800</td>\n",
              "    </tr>\n",
              "    <tr>\n",
              "      <th>4</th>\n",
              "      <td>NCD19</td>\n",
              "      <td>8.93</td>\n",
              "      <td>Low Fat</td>\n",
              "      <td>0.000000</td>\n",
              "      <td>Household</td>\n",
              "      <td>53.8614</td>\n",
              "      <td>OUT013</td>\n",
              "      <td>1987</td>\n",
              "      <td>High</td>\n",
              "      <td>Tier 3</td>\n",
              "      <td>Supermarket Type1</td>\n",
              "      <td>994.7052</td>\n",
              "    </tr>\n",
              "  </tbody>\n",
              "</table>\n",
              "</div>"
            ],
            "text/plain": [
              "  Item_Identifier  Item_Weight  ...        Outlet_Type  Item_Outlet_Sales\n",
              "0           FDA15         9.30  ...  Supermarket Type1          3735.1380\n",
              "1           DRC01         5.92  ...  Supermarket Type2           443.4228\n",
              "2           FDN15        17.50  ...  Supermarket Type1          2097.2700\n",
              "3           FDX07        19.20  ...      Grocery Store           732.3800\n",
              "4           NCD19         8.93  ...  Supermarket Type1           994.7052\n",
              "\n",
              "[5 rows x 12 columns]"
            ]
          },
          "metadata": {
            "tags": []
          },
          "execution_count": 62
        }
      ]
    },
    {
      "cell_type": "code",
      "metadata": {
        "colab": {
          "base_uri": "https://localhost:8080/"
        },
        "id": "OytvjhPdRg-Y",
        "outputId": "a1f112ec-c66a-450c-a6bb-1d43e2802b04"
      },
      "source": [
        "train['Item_Fat_Content'].value_counts()"
      ],
      "execution_count": null,
      "outputs": [
        {
          "output_type": "execute_result",
          "data": {
            "text/plain": [
              "Low Fat    5089\n",
              "Regular    2889\n",
              "LF          316\n",
              "reg         117\n",
              "low fat     112\n",
              "Name: Item_Fat_Content, dtype: int64"
            ]
          },
          "metadata": {
            "tags": []
          },
          "execution_count": 63
        }
      ]
    },
    {
      "cell_type": "markdown",
      "metadata": {
        "id": "iSvPd2f7Rg-Y"
      },
      "source": [
        "__We see there are some irregularities in the column and it is needed to fix them.__"
      ]
    },
    {
      "cell_type": "code",
      "metadata": {
        "id": "pBoALKUwRg-Z"
      },
      "source": [
        "train['Item_Fat_Content'].replace(['low fat','LF','reg'],['Low Fat','Low Fat','Regular'],inplace = True)\n",
        "test['Item_Fat_Content'].replace(['low fat','LF','reg'],['Low Fat','Low Fat','Regular'],inplace = True)"
      ],
      "execution_count": null,
      "outputs": []
    },
    {
      "cell_type": "code",
      "metadata": {
        "id": "2QbJiF2CRg-a"
      },
      "source": [
        "train['Item_Fat_Content']= train['Item_Fat_Content'].astype(str)"
      ],
      "execution_count": null,
      "outputs": []
    },
    {
      "cell_type": "code",
      "metadata": {
        "colab": {
          "base_uri": "https://localhost:8080/",
          "height": 352
        },
        "id": "xxttNfb3Rg-a",
        "outputId": "fd6da7d0-02e6-480f-abbc-11d54d829895"
      },
      "source": [
        "plt.figure(figsize=(8,5))\n",
        "sns.countplot('Item_Fat_Content',data=train,palette='ocean')"
      ],
      "execution_count": null,
      "outputs": [
        {
          "output_type": "execute_result",
          "data": {
            "text/plain": [
              "<matplotlib.axes._subplots.AxesSubplot at 0x7fecf0d74b10>"
            ]
          },
          "metadata": {
            "tags": []
          },
          "execution_count": 66
        },
        {
          "output_type": "display_data",
          "data": {
            "image/png": "[encoded data removed]",
            "text/plain": [
              "<Figure size 576x360 with 1 Axes>"
            ]
          },
          "metadata": {
            "tags": [],
            "needs_background": "light"
          }
        }
      ]
    },
    {
      "cell_type": "markdown",
      "metadata": {
        "id": "ktWgWNKPRg-b"
      },
      "source": [
        "__The Items bought are more of Low Fat.__"
      ]
    },
    {
      "cell_type": "code",
      "metadata": {
        "colab": {
          "base_uri": "https://localhost:8080/",
          "height": 310
        },
        "id": "Suzjj4b_Rg-b",
        "outputId": "47ca1f10-9e6b-4678-b8ff-f687891e1d74"
      },
      "source": [
        "plt.figure(figsize=(25,7))\n",
        "sns.countplot('Item_Type',data=train,palette='spring')"
      ],
      "execution_count": null,
      "outputs": [
        {
          "output_type": "execute_result",
          "data": {
            "text/plain": [
              "<matplotlib.axes._subplots.AxesSubplot at 0x7fecf0d4c510>"
            ]
          },
          "metadata": {
            "tags": []
          },
          "execution_count": 67
        },
        {
          "output_type": "display_data",
          "data": {
            "image/png": "[encoded data removed]",
            "text/plain": [
              "<Figure size 1800x504 with 1 Axes>"
            ]
          },
          "metadata": {
            "tags": [],
            "needs_background": "light"
          }
        }
      ]
    },
    {
      "cell_type": "markdown",
      "metadata": {
        "id": "TsSttae5Rg-c"
      },
      "source": [
        "* __Fruits and Vegetables are largely sold as people tend to use them on daily purpose.__\n",
        "* __Snack Foods too have good sales.__"
      ]
    },
    {
      "cell_type": "code",
      "metadata": {
        "colab": {
          "base_uri": "https://localhost:8080/",
          "height": 352
        },
        "id": "U9cWNrrERg-c",
        "outputId": "40b51026-f230-41ad-8f9e-40e78ab9b21e"
      },
      "source": [
        "plt.figure(figsize=(8,5))\n",
        "sns.countplot('Outlet_Size',data=train,palette='summer')"
      ],
      "execution_count": null,
      "outputs": [
        {
          "output_type": "execute_result",
          "data": {
            "text/plain": [
              "<matplotlib.axes._subplots.AxesSubplot at 0x7fecf0d89150>"
            ]
          },
          "metadata": {
            "tags": []
          },
          "execution_count": 68
        },
        {
          "output_type": "display_data",
          "data": {
            "image/png": "[encoded data removed]",
            "text/plain": [
              "<Figure size 576x360 with 1 Axes>"
            ]
          },
          "metadata": {
            "tags": [],
            "needs_background": "light"
          }
        }
      ]
    },
    {
      "cell_type": "markdown",
      "metadata": {
        "id": "g7ZOcMXYRg-c"
      },
      "source": [
        "* __The Outlets are more of Medium Size__"
      ]
    },
    {
      "cell_type": "code",
      "metadata": {
        "colab": {
          "base_uri": "https://localhost:8080/",
          "height": 354
        },
        "id": "t3gLUvHNRg-d",
        "outputId": "a1d91229-8a0f-4db3-9154-591242d0db46"
      },
      "source": [
        "plt.figure(figsize=(8,5))\n",
        "sns.countplot('Outlet_Location_Type',data=train,palette='autumn')"
      ],
      "execution_count": null,
      "outputs": [
        {
          "output_type": "execute_result",
          "data": {
            "text/plain": [
              "<matplotlib.axes._subplots.AxesSubplot at 0x7fecf0c71a50>"
            ]
          },
          "metadata": {
            "tags": []
          },
          "execution_count": 69
        },
        {
          "output_type": "display_data",
          "data": {
            "image/png": "[encoded data removed]",
            "text/plain": [
              "<Figure size 576x360 with 1 Axes>"
            ]
          },
          "metadata": {
            "tags": [],
            "needs_background": "light"
          }
        }
      ]
    },
    {
      "cell_type": "markdown",
      "metadata": {
        "id": "sWAk749WRg-d"
      },
      "source": [
        "* __The Outlets are maximum in number in Tier 3 Cities__"
      ]
    },
    {
      "cell_type": "code",
      "metadata": {
        "colab": {
          "base_uri": "https://localhost:8080/",
          "height": 352
        },
        "id": "mMq4ZDoHRg-d",
        "outputId": "9ae34b3a-3698-4c3f-9276-69ef8d5dff30"
      },
      "source": [
        "plt.figure(figsize=(8,5))\n",
        "sns.countplot('Outlet_Type',data=train,palette='twilight')"
      ],
      "execution_count": null,
      "outputs": [
        {
          "output_type": "execute_result",
          "data": {
            "text/plain": [
              "<matplotlib.axes._subplots.AxesSubplot at 0x7fecf0bc4990>"
            ]
          },
          "metadata": {
            "tags": []
          },
          "execution_count": 70
        },
        {
          "output_type": "display_data",
          "data": {
            "image/png": "[encoded data removed]",
            "text/plain": [
              "<Figure size 576x360 with 1 Axes>"
            ]
          },
          "metadata": {
            "tags": [],
            "needs_background": "light"
          }
        }
      ]
    },
    {
      "cell_type": "markdown",
      "metadata": {
        "id": "K20lJwzNRg-e"
      },
      "source": [
        "* __The Outlets are more of Supermarket Type1__"
      ]
    },
    {
      "cell_type": "code",
      "metadata": {
        "colab": {
          "base_uri": "https://localhost:8080/",
          "height": 515
        },
        "id": "ga9BaaVfRg-e",
        "outputId": "fcefa739-eb5c-4cff-943b-9db3da475c96"
      },
      "source": [
        "plt.figure(figsize=(10,8))\n",
        "sns.barplot(y='Item_Type',x='Item_Outlet_Sales',data=train,palette='flag')"
      ],
      "execution_count": null,
      "outputs": [
        {
          "output_type": "execute_result",
          "data": {
            "text/plain": [
              "<matplotlib.axes._subplots.AxesSubplot at 0x7fecfb9b8710>"
            ]
          },
          "metadata": {
            "tags": []
          },
          "execution_count": 71
        },
        {
          "output_type": "display_data",
          "data": {
            "image/png": "[encoded data removed]",
            "text/plain": [
              "<Figure size 720x576 with 1 Axes>"
            ]
          },
          "metadata": {
            "tags": [],
            "needs_background": "light"
          }
        }
      ]
    },
    {
      "cell_type": "markdown",
      "metadata": {
        "id": "AbiWm_keRg-e"
      },
      "source": [
        "* __The products available were Fruits-Veggies and Snack Foods but the sales of Seafood and Starchy Foods seems higher and hence the sales can be improved with having stock of products that are most bought by customers.__"
      ]
    },
    {
      "cell_type": "code",
      "metadata": {
        "id": "mtX65Am_Rg-f"
      },
      "source": [
        ""
      ],
      "execution_count": null,
      "outputs": []
    },
    {
      "cell_type": "markdown",
      "metadata": {
        "id": "qyd-GvMjRg-f"
      },
      "source": [
        "### Step 5 : Feature Engineering"
      ]
    },
    {
      "cell_type": "markdown",
      "metadata": {
        "id": "W5u0fCOJRg-f"
      },
      "source": [
        "__Determine the years of operation of a store__"
      ]
    },
    {
      "cell_type": "code",
      "metadata": {
        "id": "5v6P-G4wRg-f"
      },
      "source": [
        "#Years:\n",
        "train['Outlet_Years'] = 2021 - train['Outlet_Establishment_Year']\n",
        "test['Outlet_Years'] = 2021 - test['Outlet_Establishment_Year']"
      ],
      "execution_count": null,
      "outputs": []
    },
    {
      "cell_type": "markdown",
      "metadata": {
        "id": "X06RUwxlRg-g"
      },
      "source": [
        "__Create a broad category of Type of Item__"
      ]
    },
    {
      "cell_type": "code",
      "metadata": {
        "id": "UQPnLx9FRg-g"
      },
      "source": [
        "train['Item_Type_Combined'] = train['Item_Identifier'].apply(lambda x: x[0:2])\n",
        "train['Item_Type_Combined'] = train['Item_Type_Combined'].map({'FD':'Food',\n",
        "                                                             'NC':'Non-Consumable',\n",
        "                                                             'DR':'Drinks'})\n",
        "\n",
        "test['Item_Type_Combined'] = test['Item_Identifier'].apply(lambda x: x[0:2])\n",
        "test['Item_Type_Combined'] = test['Item_Type_Combined'].map({'FD':'Food',\n",
        "                                                             'NC':'Non-Consumable',\n",
        "                                                             'DR':'Drinks'})\n",
        "\n"
      ],
      "execution_count": null,
      "outputs": []
    },
    {
      "cell_type": "markdown",
      "metadata": {
        "id": "patXyS33Rg-h"
      },
      "source": [
        "__Modify categories of Item_Fat_Content__"
      ]
    },
    {
      "cell_type": "code",
      "metadata": {
        "colab": {
          "base_uri": "https://localhost:8080/"
        },
        "id": "sFZlofmzRg-h",
        "outputId": "57dedd5f-4d73-47a3-a803-7b534a57e9f6"
      },
      "source": [
        "#Mark non-consumables as separate category in low_fat:\n",
        "train.loc[train['Item_Type_Combined']==\"Non-Consumable\",'Item_Fat_Content'] = \"Non-Edible\"\n",
        "train['Item_Fat_Content'].value_counts()"
      ],
      "execution_count": null,
      "outputs": [
        {
          "output_type": "execute_result",
          "data": {
            "text/plain": [
              "Low Fat       3918\n",
              "Regular       3006\n",
              "Non-Edible    1599\n",
              "Name: Item_Fat_Content, dtype: int64"
            ]
          },
          "metadata": {
            "tags": []
          },
          "execution_count": 74
        }
      ]
    },
    {
      "cell_type": "code",
      "metadata": {
        "scrolled": true,
        "colab": {
          "base_uri": "https://localhost:8080/"
        },
        "id": "N9J086S5Rg-h",
        "outputId": "4cf1a690-821c-4853-dc3d-8c640d2695f8"
      },
      "source": [
        "\n",
        "#Mark non-consumables as separate category in low_fat:\n",
        "test.loc[test['Item_Type_Combined']==\"Non-Consumable\",'Item_Fat_Content'] = \"Non-Edible\"\n",
        "test['Item_Fat_Content'].value_counts()"
      ],
      "execution_count": null,
      "outputs": [
        {
          "output_type": "execute_result",
          "data": {
            "text/plain": [
              "Low Fat       2581\n",
              "Regular       2013\n",
              "Non-Edible    1087\n",
              "Name: Item_Fat_Content, dtype: int64"
            ]
          },
          "metadata": {
            "tags": []
          },
          "execution_count": 75
        }
      ]
    },
    {
      "cell_type": "markdown",
      "metadata": {
        "id": "vckefkUQRg-i"
      },
      "source": [
        "__Numerical and One-Hot Coding of Categorical variables__"
      ]
    },
    {
      "cell_type": "code",
      "metadata": {
        "id": "jex-ZLsjRg-i"
      },
      "source": [
        "#Import library:\n",
        "from sklearn.preprocessing import LabelEncoder\n",
        "le = LabelEncoder()\n",
        "#New variable for outlet\n",
        "train['Outlet'] = le.fit_transform(train['Outlet_Identifier'])\n",
        "var_mod = ['Item_Fat_Content','Outlet_Location_Type','Outlet_Size','Item_Type_Combined','Outlet_Type','Outlet']\n",
        "le = LabelEncoder()\n",
        "for i in var_mod:\n",
        "    train[i] = le.fit_transform(train[i])\n",
        "    \n",
        "#One Hot Coding:\n",
        "train = pd.get_dummies(train, columns=['Item_Fat_Content','Outlet_Location_Type','Outlet_Size','Outlet_Type',\n",
        "                              'Item_Type_Combined','Outlet'])"
      ],
      "execution_count": null,
      "outputs": []
    },
    {
      "cell_type": "code",
      "metadata": {
        "id": "EU8cU3SxRg-i"
      },
      "source": [
        "\n",
        "#New variable for outlet\n",
        "test['Outlet'] = le.fit_transform(test['Outlet_Identifier'])\n",
        "var_mod = ['Item_Fat_Content','Outlet_Location_Type','Outlet_Size','Item_Type_Combined','Outlet_Type','Outlet']\n",
        "le = LabelEncoder()\n",
        "for i in var_mod:\n",
        "    test[i] = le.fit_transform(test[i])\n",
        "    \n",
        "#One Hot Coding:\n",
        "test = pd.get_dummies(test, columns=['Item_Fat_Content','Outlet_Location_Type','Outlet_Size','Outlet_Type',\n",
        "                              'Item_Type_Combined','Outlet'])"
      ],
      "execution_count": null,
      "outputs": []
    },
    {
      "cell_type": "markdown",
      "metadata": {
        "id": "h-KCjkyyRg-j"
      },
      "source": [
        "### Step 6: Building Model"
      ]
    },
    {
      "cell_type": "code",
      "metadata": {
        "colab": {
          "base_uri": "https://localhost:8080/"
        },
        "id": "Aenzd88CRg-j",
        "outputId": "64980b4b-525a-4970-d825-3e782586a8fe"
      },
      "source": [
        "train.columns"
      ],
      "execution_count": null,
      "outputs": [
        {
          "output_type": "execute_result",
          "data": {
            "text/plain": [
              "Index(['Item_Identifier', 'Item_Weight', 'Item_Visibility', 'Item_Type',\n",
              "       'Item_MRP', 'Outlet_Identifier', 'Outlet_Establishment_Year',\n",
              "       'Item_Outlet_Sales', 'Outlet_Years', 'Item_Fat_Content_0',\n",
              "       'Item_Fat_Content_1', 'Item_Fat_Content_2', 'Outlet_Location_Type_0',\n",
              "       'Outlet_Location_Type_1', 'Outlet_Location_Type_2', 'Outlet_Size_0',\n",
              "       'Outlet_Size_1', 'Outlet_Size_2', 'Outlet_Type_0', 'Outlet_Type_1',\n",
              "       'Outlet_Type_2', 'Outlet_Type_3', 'Item_Type_Combined_0',\n",
              "       'Item_Type_Combined_1', 'Item_Type_Combined_2', 'Outlet_0', 'Outlet_1',\n",
              "       'Outlet_2', 'Outlet_3', 'Outlet_4', 'Outlet_5', 'Outlet_6', 'Outlet_7',\n",
              "       'Outlet_8', 'Outlet_9'],\n",
              "      dtype='object')"
            ]
          },
          "metadata": {
            "tags": []
          },
          "execution_count": 78
        }
      ]
    },
    {
      "cell_type": "code",
      "metadata": {
        "id": "G_aRnrf4Rg-j"
      },
      "source": [
        "train = train.select_dtypes(exclude='object')\n",
        "test = test.select_dtypes(exclude='object')"
      ],
      "execution_count": null,
      "outputs": []
    },
    {
      "cell_type": "code",
      "metadata": {
        "id": "Wfyi3TzDRg-k"
      },
      "source": [
        "# Seperate Features and Target\n",
        "X= train.drop(columns = ['Item_Outlet_Sales'], axis=1)\n",
        "y= train['Item_Outlet_Sales']"
      ],
      "execution_count": null,
      "outputs": []
    },
    {
      "cell_type": "code",
      "metadata": {
        "id": "snqBSeEwRg-k"
      },
      "source": [
        "# 20% data as validation set\n",
        "X_train,X_valid,y_train,y_valid = train_test_split(X,y,test_size=0.2,random_state=22)"
      ],
      "execution_count": null,
      "outputs": []
    },
    {
      "cell_type": "code",
      "metadata": {
        "id": "3U_TmYpjRg-k"
      },
      "source": [
        "# Model Building\n",
        "features= X.columns\n",
        "LR = LinearRegression(normalize=True)\n",
        "LR.fit(X_train,y_train)\n",
        "y_pred = LR.predict(X_valid)\n",
        "coef = pd.Series(LR.coef_,features).sort_values()\n"
      ],
      "execution_count": null,
      "outputs": []
    },
    {
      "cell_type": "code",
      "metadata": {
        "colab": {
          "base_uri": "https://localhost:8080/",
          "height": 350
        },
        "id": "ZQO5pi-RRg-l",
        "outputId": "acf3e1bd-77b8-447b-b93a-cbaa53a0fc1e"
      },
      "source": [
        "# Barplot for coefficients\n",
        "plt.figure(figsize=(8,5))\n",
        "sns.barplot(LR.coef_,features)"
      ],
      "execution_count": null,
      "outputs": [
        {
          "output_type": "execute_result",
          "data": {
            "text/plain": [
              "<matplotlib.axes._subplots.AxesSubplot at 0x7fecf0a66b50>"
            ]
          },
          "metadata": {
            "tags": []
          },
          "execution_count": 83
        },
        {
          "output_type": "display_data",
          "data": {
            "image/png": "[encoded data removed]",
            "text/plain": [
              "<Figure size 576x360 with 1 Axes>"
            ]
          },
          "metadata": {
            "tags": [],
            "needs_background": "light"
          }
        }
      ]
    },
    {
      "cell_type": "markdown",
      "metadata": {
        "id": "f352CCzzRg-l"
      },
      "source": [
        "* __Item Visibility, Outlet_Type, Outlet_Size, Outlet_Location_Type are the most important attributes to determine Item_Outlet_Sales.__"
      ]
    },
    {
      "cell_type": "markdown",
      "metadata": {
        "id": "j8TNBDslRg-m"
      },
      "source": [
        "__RMSE__"
      ]
    },
    {
      "cell_type": "code",
      "metadata": {
        "colab": {
          "base_uri": "https://localhost:8080/"
        },
        "id": "xVSqjzHPRg-m",
        "outputId": "efaeab9d-4445-44b5-aeed-1cab1d1e4577"
      },
      "source": [
        "MSE= metrics.mean_squared_error(y_valid,y_pred)\n",
        "from math import sqrt\n",
        "rmse = sqrt(MSE)\n",
        "print(\"Root Mean Squared Error:\",rmse)"
      ],
      "execution_count": null,
      "outputs": [
        {
          "output_type": "stream",
          "text": [
            "Root Mean Squared Error: 1187.5791778416353\n"
          ],
          "name": "stdout"
        }
      ]
    },
    {
      "cell_type": "markdown",
      "metadata": {
        "id": "gQoMc-rFRg-n"
      },
      "source": [
        "* __Validation Set RMSE score is around 1187 from this linear model__"
      ]
    },
    {
      "cell_type": "code",
      "metadata": {
        "id": "PjZ0RwyNRg-n"
      },
      "source": [
        "submission = pd.read_csv('sample_submission_8RXa3c6.csv')\n",
        "final_predictions = LR.predict(test)\n",
        "submission['Item_Outlet_Sales'] = final_predictions\n",
        "#only positive predictions for the target variable\n",
        "submission['Item_Outlet_Sales'] = submission['Item_Outlet_Sales'].apply(lambda x: 0 if x<0 else x)\n",
        "submission.to_csv('my_submission1.csv', index=False)"
      ],
      "execution_count": null,
      "outputs": []
    }
  ]
}